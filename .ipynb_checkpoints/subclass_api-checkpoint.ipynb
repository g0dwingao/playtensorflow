{
 "cells": [
  {
   "cell_type": "code",
   "execution_count": 1,
   "metadata": {},
   "outputs": [],
   "source": [
    "import numpy as np\n",
    "import pandas as pd\n",
    "import matplotlib.pyplot as plt\n",
    "import tensorflow as tf\n",
    "from sklearn.preprocessing import StandardScaler\n",
    "from sklearn.datasets import load_boston"
   ]
  },
  {
   "cell_type": "code",
   "execution_count": 2,
   "metadata": {},
   "outputs": [],
   "source": [
    "boston=load_boston()"
   ]
  },
  {
   "cell_type": "code",
   "execution_count": 3,
   "metadata": {},
   "outputs": [],
   "source": [
    "# boston.target.shape"
   ]
  },
  {
   "cell_type": "code",
   "execution_count": 4,
   "metadata": {},
   "outputs": [],
   "source": [
    "# boston.data.shape"
   ]
  },
  {
   "cell_type": "code",
   "execution_count": 5,
   "metadata": {},
   "outputs": [],
   "source": [
    "from sklearn.model_selection import train_test_split"
   ]
  },
  {
   "cell_type": "code",
   "execution_count": 6,
   "metadata": {},
   "outputs": [],
   "source": [
    "x_train,x_test,y_train,y_test=train_test_split(boston.data,boston.target)"
   ]
  },
  {
   "cell_type": "code",
   "execution_count": 7,
   "metadata": {},
   "outputs": [],
   "source": [
    "x_train,x_valid,y_train,y_valid=train_test_split(x_train,y_train)"
   ]
  },
  {
   "cell_type": "code",
   "execution_count": 8,
   "metadata": {},
   "outputs": [],
   "source": [
    "scaler=StandardScaler()\n",
    "x_train=scaler.fit_transform(x_train)\n",
    "x_valid=scaler.transform(x_valid)\n",
    "x_test=scaler.transform(x_test)"
   ]
  },
  {
   "cell_type": "code",
   "execution_count": 21,
   "metadata": {},
   "outputs": [],
   "source": [
    "input_layer=tf.keras.layers.Input(shape=[13,])\n",
    "hiden1=tf.keras.layers.Dense(300,activation='relu')(input_layer)\n",
    "hiden2=tf.keras.layers.Dense(100,activation='relu')(hiden1)\n",
    "output_layer=tf.keras.layers.Dense(1)(hiden2)\n",
    "\n",
    "model=tf.keras.models.Model(inputs=[input_layer],outputs=[output_layer])"
   ]
  },
  {
   "cell_type": "code",
   "execution_count": 23,
   "metadata": {},
   "outputs": [
    {
     "name": "stdout",
     "output_type": "stream",
     "text": [
      "Model: \"model_6\"\n",
      "_________________________________________________________________\n",
      "Layer (type)                 Output Shape              Param #   \n",
      "=================================================================\n",
      "input_8 (InputLayer)         [(None, 13)]              0         \n",
      "_________________________________________________________________\n",
      "dense_23 (Dense)             (None, 300)               4200      \n",
      "_________________________________________________________________\n",
      "dense_24 (Dense)             (None, 100)               30100     \n",
      "_________________________________________________________________\n",
      "dense_25 (Dense)             (None, 1)                 101       \n",
      "=================================================================\n",
      "Total params: 34,401\n",
      "Trainable params: 34,401\n",
      "Non-trainable params: 0\n",
      "_________________________________________________________________\n"
     ]
    }
   ],
   "source": [
    "model.summary()"
   ]
  },
  {
   "cell_type": "code",
   "execution_count": 24,
   "metadata": {},
   "outputs": [],
   "source": [
    "model.compile(loss='mse',optimizer='sgd')"
   ]
  },
  {
   "cell_type": "code",
   "execution_count": 27,
   "metadata": {},
   "outputs": [
    {
     "name": "stdout",
     "output_type": "stream",
     "text": [
      "Train on 284 samples, validate on 95 samples\n",
      "Epoch 1/100\n",
      "284/284 [==============================] - 0s 91us/sample - loss: 2.7356 - val_loss: 15.0059\n",
      "Epoch 2/100\n",
      "284/284 [==============================] - 0s 87us/sample - loss: 3.2514 - val_loss: 15.1602\n",
      "Epoch 3/100\n",
      "284/284 [==============================] - 0s 84us/sample - loss: 2.8298 - val_loss: 18.7529\n",
      "Epoch 4/100\n",
      "284/284 [==============================] - 0s 95us/sample - loss: 2.7669 - val_loss: 20.4087\n",
      "Epoch 5/100\n",
      "284/284 [==============================] - 0s 95us/sample - loss: 5.1851 - val_loss: 32.2572\n",
      "Epoch 6/100\n",
      "284/284 [==============================] - 0s 88us/sample - loss: 3.7575 - val_loss: 23.4035\n",
      "Epoch 7/100\n",
      "284/284 [==============================] - 0s 82us/sample - loss: 2.6761 - val_loss: 17.1615\n",
      "Epoch 8/100\n",
      "284/284 [==============================] - 0s 84us/sample - loss: 2.6029 - val_loss: 17.8532\n",
      "Epoch 9/100\n",
      "284/284 [==============================] - 0s 88us/sample - loss: 2.3855 - val_loss: 14.2179\n",
      "Epoch 10/100\n",
      "284/284 [==============================] - 0s 83us/sample - loss: 2.5071 - val_loss: 15.9585\n",
      "Epoch 11/100\n",
      "284/284 [==============================] - 0s 88us/sample - loss: 4.5245 - val_loss: 17.3973\n",
      "Epoch 12/100\n",
      "284/284 [==============================] - 0s 88us/sample - loss: 3.0460 - val_loss: 16.4026\n",
      "Epoch 13/100\n",
      "284/284 [==============================] - 0s 88us/sample - loss: 3.6759 - val_loss: 22.6628\n",
      "Epoch 14/100\n",
      "284/284 [==============================] - 0s 81us/sample - loss: 5.5634 - val_loss: 15.8996\n",
      "Epoch 15/100\n",
      "284/284 [==============================] - 0s 88us/sample - loss: 3.5380 - val_loss: 15.9983\n",
      "Epoch 16/100\n",
      "284/284 [==============================] - 0s 81us/sample - loss: 2.9552 - val_loss: 14.6050\n",
      "Epoch 17/100\n",
      "284/284 [==============================] - 0s 81us/sample - loss: 2.4377 - val_loss: 14.4623\n",
      "Epoch 18/100\n",
      "284/284 [==============================] - 0s 84us/sample - loss: 2.9834 - val_loss: 15.3415\n",
      "Epoch 19/100\n",
      "284/284 [==============================] - 0s 84us/sample - loss: 2.7347 - val_loss: 16.0615\n",
      "Epoch 20/100\n",
      "284/284 [==============================] - 0s 81us/sample - loss: 2.3475 - val_loss: 14.5493\n",
      "Epoch 21/100\n",
      "284/284 [==============================] - 0s 74us/sample - loss: 2.8317 - val_loss: 18.9725\n",
      "Epoch 22/100\n",
      "284/284 [==============================] - 0s 84us/sample - loss: 3.0280 - val_loss: 15.1930\n",
      "Epoch 23/100\n",
      "284/284 [==============================] - 0s 84us/sample - loss: 2.7425 - val_loss: 14.2237\n",
      "Epoch 24/100\n",
      "284/284 [==============================] - 0s 77us/sample - loss: 2.2245 - val_loss: 14.6075\n",
      "Epoch 25/100\n",
      "284/284 [==============================] - 0s 91us/sample - loss: 2.5725 - val_loss: 14.9300\n",
      "Epoch 26/100\n",
      "284/284 [==============================] - 0s 76us/sample - loss: 2.6375 - val_loss: 17.9446\n",
      "Epoch 27/100\n",
      "284/284 [==============================] - 0s 84us/sample - loss: 2.8000 - val_loss: 15.4657\n",
      "Epoch 28/100\n",
      "284/284 [==============================] - 0s 84us/sample - loss: 2.5334 - val_loss: 16.2903\n",
      "Epoch 29/100\n",
      "284/284 [==============================] - 0s 88us/sample - loss: 2.6701 - val_loss: 15.4060\n",
      "Epoch 30/100\n",
      "284/284 [==============================] - 0s 70us/sample - loss: 2.3343 - val_loss: 19.1999\n",
      "Epoch 31/100\n",
      "284/284 [==============================] - 0s 90us/sample - loss: 10.3806 - val_loss: 14.8727\n",
      "Epoch 32/100\n",
      "284/284 [==============================] - 0s 81us/sample - loss: 6.8736 - val_loss: 18.5011\n",
      "Epoch 33/100\n",
      "284/284 [==============================] - 0s 88us/sample - loss: 2.6676 - val_loss: 19.7074\n",
      "Epoch 34/100\n",
      "284/284 [==============================] - 0s 77us/sample - loss: 2.3807 - val_loss: 16.5886\n",
      "Epoch 35/100\n",
      "284/284 [==============================] - 0s 81us/sample - loss: 2.1673 - val_loss: 15.0041\n",
      "Epoch 36/100\n",
      "284/284 [==============================] - 0s 84us/sample - loss: 2.2222 - val_loss: 15.2699\n",
      "Epoch 37/100\n",
      "284/284 [==============================] - 0s 70us/sample - loss: 3.0042 - val_loss: 22.2928\n",
      "Epoch 38/100\n",
      "284/284 [==============================] - 0s 77us/sample - loss: 2.8642 - val_loss: 15.4045\n",
      "Epoch 39/100\n",
      "284/284 [==============================] - 0s 91us/sample - loss: 2.0662 - val_loss: 15.2335\n",
      "Epoch 40/100\n",
      "284/284 [==============================] - 0s 88us/sample - loss: 3.2104 - val_loss: 15.6072\n",
      "Epoch 41/100\n",
      "284/284 [==============================] - 0s 83us/sample - loss: 2.6038 - val_loss: 15.1355\n",
      "Epoch 42/100\n",
      "284/284 [==============================] - 0s 81us/sample - loss: 1.9381 - val_loss: 17.0368\n",
      "Epoch 43/100\n",
      "284/284 [==============================] - 0s 81us/sample - loss: 1.8923 - val_loss: 16.4809\n",
      "Epoch 44/100\n",
      "284/284 [==============================] - 0s 84us/sample - loss: 2.1453 - val_loss: 15.8013\n",
      "Epoch 45/100\n",
      "284/284 [==============================] - 0s 91us/sample - loss: 4.3502 - val_loss: 23.5896\n",
      "Epoch 46/100\n",
      "284/284 [==============================] - 0s 88us/sample - loss: 4.3244 - val_loss: 18.8228\n",
      "Epoch 47/100\n",
      "284/284 [==============================] - 0s 74us/sample - loss: 3.1770 - val_loss: 18.6176\n",
      "Epoch 48/100\n",
      "284/284 [==============================] - 0s 81us/sample - loss: 3.1355 - val_loss: 18.9691\n",
      "Epoch 49/100\n",
      "284/284 [==============================] - 0s 81us/sample - loss: 5.0435 - val_loss: 16.9671\n",
      "Epoch 50/100\n",
      "284/284 [==============================] - 0s 88us/sample - loss: 2.7921 - val_loss: 17.3271\n",
      "Epoch 51/100\n",
      "284/284 [==============================] - 0s 84us/sample - loss: 2.2522 - val_loss: 15.8314\n",
      "Epoch 52/100\n",
      "284/284 [==============================] - 0s 81us/sample - loss: 2.2091 - val_loss: 16.1175\n",
      "Epoch 53/100\n",
      "284/284 [==============================] - 0s 88us/sample - loss: 2.1545 - val_loss: 16.7220\n",
      "Epoch 54/100\n",
      "284/284 [==============================] - 0s 88us/sample - loss: 2.0535 - val_loss: 16.0256\n",
      "Epoch 55/100\n",
      "284/284 [==============================] - 0s 84us/sample - loss: 1.9403 - val_loss: 15.1481\n",
      "Epoch 56/100\n",
      "284/284 [==============================] - 0s 74us/sample - loss: 1.6078 - val_loss: 16.0180\n",
      "Epoch 57/100\n",
      "284/284 [==============================] - 0s 70us/sample - loss: 1.8093 - val_loss: 15.9216\n",
      "Epoch 58/100\n",
      "284/284 [==============================] - 0s 81us/sample - loss: 1.6162 - val_loss: 16.3691\n",
      "Epoch 59/100\n",
      "284/284 [==============================] - 0s 77us/sample - loss: 1.6797 - val_loss: 17.9145\n",
      "Epoch 60/100\n",
      "284/284 [==============================] - 0s 72us/sample - loss: 7.2617 - val_loss: 20.9508\n",
      "Epoch 61/100\n",
      "284/284 [==============================] - 0s 77us/sample - loss: 2.5104 - val_loss: 15.3580\n",
      "Epoch 62/100\n",
      "284/284 [==============================] - 0s 74us/sample - loss: 2.9749 - val_loss: 23.8026\n",
      "Epoch 63/100\n",
      "284/284 [==============================] - 0s 77us/sample - loss: 4.4773 - val_loss: 15.4390\n",
      "Epoch 64/100\n",
      "284/284 [==============================] - 0s 81us/sample - loss: 2.2328 - val_loss: 20.5283\n",
      "Epoch 65/100\n",
      "284/284 [==============================] - 0s 70us/sample - loss: 3.9816 - val_loss: 15.8896\n",
      "Epoch 66/100\n",
      "284/284 [==============================] - 0s 74us/sample - loss: 1.9239 - val_loss: 17.8040\n",
      "Epoch 67/100\n",
      "284/284 [==============================] - 0s 77us/sample - loss: 3.2533 - val_loss: 15.8183\n",
      "Epoch 68/100\n",
      "284/284 [==============================] - 0s 74us/sample - loss: 2.2520 - val_loss: 16.2522\n",
      "Epoch 69/100\n",
      "284/284 [==============================] - 0s 81us/sample - loss: 1.9582 - val_loss: 16.3056\n",
      "Epoch 70/100\n",
      "284/284 [==============================] - 0s 70us/sample - loss: 1.8103 - val_loss: 18.3180\n",
      "Epoch 71/100\n",
      "284/284 [==============================] - 0s 81us/sample - loss: 1.7539 - val_loss: 15.2971\n",
      "Epoch 72/100\n",
      "284/284 [==============================] - 0s 81us/sample - loss: 1.4480 - val_loss: 17.6795\n",
      "Epoch 73/100\n",
      "284/284 [==============================] - 0s 77us/sample - loss: 1.5602 - val_loss: 15.7316\n",
      "Epoch 74/100\n",
      "284/284 [==============================] - 0s 74us/sample - loss: 2.3133 - val_loss: 15.3681\n",
      "Epoch 75/100\n",
      "284/284 [==============================] - 0s 77us/sample - loss: 1.6911 - val_loss: 14.9001\n",
      "Epoch 76/100\n",
      "284/284 [==============================] - 0s 77us/sample - loss: 3.3231 - val_loss: 16.6178\n",
      "Epoch 77/100\n",
      "284/284 [==============================] - 0s 81us/sample - loss: 3.9684 - val_loss: 16.4520\n"
     ]
    },
    {
     "name": "stdout",
     "output_type": "stream",
     "text": [
      "Epoch 78/100\n",
      "284/284 [==============================] - 0s 66us/sample - loss: 1.9137 - val_loss: 16.0566\n",
      "Epoch 79/100\n",
      "284/284 [==============================] - 0s 81us/sample - loss: 1.7937 - val_loss: 14.7593\n",
      "Epoch 80/100\n",
      "284/284 [==============================] - 0s 67us/sample - loss: 1.3690 - val_loss: 16.1481\n",
      "Epoch 81/100\n",
      "284/284 [==============================] - 0s 70us/sample - loss: 1.7043 - val_loss: 15.2276\n",
      "Epoch 82/100\n",
      "284/284 [==============================] - 0s 77us/sample - loss: 1.3254 - val_loss: 15.0162\n",
      "Epoch 83/100\n",
      "284/284 [==============================] - 0s 70us/sample - loss: 1.6017 - val_loss: 18.7909\n",
      "Epoch 84/100\n",
      "284/284 [==============================] - 0s 63us/sample - loss: 1.9521 - val_loss: 16.4429\n",
      "Epoch 85/100\n",
      "284/284 [==============================] - 0s 74us/sample - loss: 1.6836 - val_loss: 16.9054\n",
      "Epoch 86/100\n",
      "284/284 [==============================] - 0s 77us/sample - loss: 1.3766 - val_loss: 17.6630\n",
      "Epoch 87/100\n",
      "284/284 [==============================] - 0s 77us/sample - loss: 1.8536 - val_loss: 20.4998\n",
      "Epoch 88/100\n",
      "284/284 [==============================] - 0s 70us/sample - loss: 6.4814 - val_loss: 21.3380\n",
      "Epoch 89/100\n",
      "284/284 [==============================] - 0s 70us/sample - loss: 4.1951 - val_loss: 16.1497\n",
      "Epoch 90/100\n",
      "284/284 [==============================] - 0s 77us/sample - loss: 1.9469 - val_loss: 18.6485\n",
      "Epoch 91/100\n",
      "284/284 [==============================] - 0s 91us/sample - loss: 1.6284 - val_loss: 16.8965\n",
      "Epoch 92/100\n",
      "284/284 [==============================] - 0s 74us/sample - loss: 1.5025 - val_loss: 16.8981\n",
      "Epoch 93/100\n",
      "284/284 [==============================] - 0s 74us/sample - loss: 1.3875 - val_loss: 15.5505\n",
      "Epoch 94/100\n",
      "284/284 [==============================] - 0s 74us/sample - loss: 2.2338 - val_loss: 17.1255\n",
      "Epoch 95/100\n",
      "284/284 [==============================] - 0s 67us/sample - loss: 2.1298 - val_loss: 16.5825\n",
      "Epoch 96/100\n",
      "284/284 [==============================] - 0s 74us/sample - loss: 1.5069 - val_loss: 17.3678\n",
      "Epoch 97/100\n",
      "284/284 [==============================] - 0s 77us/sample - loss: 1.5544 - val_loss: 17.1330\n",
      "Epoch 98/100\n",
      "284/284 [==============================] - 0s 81us/sample - loss: 1.6675 - val_loss: 16.9392\n",
      "Epoch 99/100\n",
      "284/284 [==============================] - 0s 77us/sample - loss: 2.9793 - val_loss: 15.4786\n",
      "Epoch 100/100\n",
      "284/284 [==============================] - 0s 77us/sample - loss: 1.5626 - val_loss: 16.5045\n"
     ]
    }
   ],
   "source": [
    "history=model.fit(x_train,y_train,validation_data=[x_valid,y_valid],epochs=100)"
   ]
  },
  {
   "cell_type": "code",
   "execution_count": 28,
   "metadata": {},
   "outputs": [],
   "source": [
    "y_predict=model.predict(x_test)"
   ]
  },
  {
   "cell_type": "code",
   "execution_count": 29,
   "metadata": {},
   "outputs": [],
   "source": [
    "from sklearn.metrics import r2_score"
   ]
  },
  {
   "cell_type": "code",
   "execution_count": 30,
   "metadata": {},
   "outputs": [
    {
     "data": {
      "text/plain": [
       "0.9044068767856519"
      ]
     },
     "execution_count": 30,
     "metadata": {},
     "output_type": "execute_result"
    }
   ],
   "source": [
    "r2_score(y_test,y_predict)"
   ]
  },
  {
   "cell_type": "code",
   "execution_count": null,
   "metadata": {},
   "outputs": [],
   "source": []
  }
 ],
 "metadata": {
  "kernelspec": {
   "display_name": "Python 3",
   "language": "python",
   "name": "python3"
  },
  "language_info": {
   "codemirror_mode": {
    "name": "ipython",
    "version": 3
   },
   "file_extension": ".py",
   "mimetype": "text/x-python",
   "name": "python",
   "nbconvert_exporter": "python",
   "pygments_lexer": "ipython3",
   "version": "3.7.3"
  }
 },
 "nbformat": 4,
 "nbformat_minor": 2
}
