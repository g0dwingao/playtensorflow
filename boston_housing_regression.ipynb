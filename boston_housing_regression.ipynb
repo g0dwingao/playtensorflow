{
 "cells": [
  {
   "cell_type": "code",
   "execution_count": 2,
   "metadata": {},
   "outputs": [],
   "source": [
    "import numpy as np\n",
    "import pandas as pd\n",
    "import matplotlib.pyplot as plt\n",
    "import tensorflow as tf\n",
    "from sklearn.preprocessing import StandardScaler\n",
    "from sklearn.datasets import load_boston\n",
    "from sklearn.model_selection import train_test_split"
   ]
  },
  {
   "cell_type": "code",
   "execution_count": 3,
   "metadata": {},
   "outputs": [],
   "source": [
    "boston=load_boston()"
   ]
  },
  {
   "cell_type": "code",
   "execution_count": 6,
   "metadata": {},
   "outputs": [
    {
     "name": "stdout",
     "output_type": "stream",
     "text": [
      ".. _boston_dataset:\n",
      "\n",
      "Boston house prices dataset\n",
      "---------------------------\n",
      "\n",
      "**Data Set Characteristics:**  \n",
      "\n",
      "    :Number of Instances: 506 \n",
      "\n",
      "    :Number of Attributes: 13 numeric/categorical predictive. Median Value (attribute 14) is usually the target.\n",
      "\n",
      "    :Attribute Information (in order):\n",
      "        - CRIM     per capita crime rate by town\n",
      "        - ZN       proportion of residential land zoned for lots over 25,000 sq.ft.\n",
      "        - INDUS    proportion of non-retail business acres per town\n",
      "        - CHAS     Charles River dummy variable (= 1 if tract bounds river; 0 otherwise)\n",
      "        - NOX      nitric oxides concentration (parts per 10 million)\n",
      "        - RM       average number of rooms per dwelling\n",
      "        - AGE      proportion of owner-occupied units built prior to 1940\n",
      "        - DIS      weighted distances to five Boston employment centres\n",
      "        - RAD      index of accessibility to radial highways\n",
      "        - TAX      full-value property-tax rate per $10,000\n",
      "        - PTRATIO  pupil-teacher ratio by town\n",
      "        - B        1000(Bk - 0.63)^2 where Bk is the proportion of blacks by town\n",
      "        - LSTAT    % lower status of the population\n",
      "        - MEDV     Median value of owner-occupied homes in $1000's\n",
      "\n",
      "    :Missing Attribute Values: None\n",
      "\n",
      "    :Creator: Harrison, D. and Rubinfeld, D.L.\n",
      "\n",
      "This is a copy of UCI ML housing dataset.\n",
      "https://archive.ics.uci.edu/ml/machine-learning-databases/housing/\n",
      "\n",
      "\n",
      "This dataset was taken from the StatLib library which is maintained at Carnegie Mellon University.\n",
      "\n",
      "The Boston house-price data of Harrison, D. and Rubinfeld, D.L. 'Hedonic\n",
      "prices and the demand for clean air', J. Environ. Economics & Management,\n",
      "vol.5, 81-102, 1978.   Used in Belsley, Kuh & Welsch, 'Regression diagnostics\n",
      "...', Wiley, 1980.   N.B. Various transformations are used in the table on\n",
      "pages 244-261 of the latter.\n",
      "\n",
      "The Boston house-price data has been used in many machine learning papers that address regression\n",
      "problems.   \n",
      "     \n",
      ".. topic:: References\n",
      "\n",
      "   - Belsley, Kuh & Welsch, 'Regression diagnostics: Identifying Influential Data and Sources of Collinearity', Wiley, 1980. 244-261.\n",
      "   - Quinlan,R. (1993). Combining Instance-Based and Model-Based Learning. In Proceedings on the Tenth International Conference of Machine Learning, 236-243, University of Massachusetts, Amherst. Morgan Kaufmann.\n",
      "\n"
     ]
    }
   ],
   "source": [
    "print(boston.DESCR)"
   ]
  },
  {
   "cell_type": "code",
   "execution_count": 7,
   "metadata": {},
   "outputs": [
    {
     "data": {
      "text/plain": [
       "(506,)"
      ]
     },
     "execution_count": 7,
     "metadata": {},
     "output_type": "execute_result"
    }
   ],
   "source": [
    "boston.target.shape"
   ]
  },
  {
   "cell_type": "code",
   "execution_count": 8,
   "metadata": {},
   "outputs": [
    {
     "data": {
      "text/plain": [
       "(506, 13)"
      ]
     },
     "execution_count": 8,
     "metadata": {},
     "output_type": "execute_result"
    }
   ],
   "source": [
    "boston.data.shape"
   ]
  },
  {
   "cell_type": "code",
   "execution_count": 9,
   "metadata": {},
   "outputs": [],
   "source": [
    "x_train,x_test,y_train,y_test=train_test_split(boston.data,boston.target,random_state=666)\n",
    "x_train,x_valid,y_train,y_valid=train_test_split(x_train,y_train,random_state=666)"
   ]
  },
  {
   "cell_type": "code",
   "execution_count": 10,
   "metadata": {},
   "outputs": [],
   "source": [
    "scaler=StandardScaler()\n",
    "x_train=scaler.fit_transform(x_train)\n",
    "x_valid=scaler.transform(x_valid)\n",
    "x_test=scaler.transform(x_test)"
   ]
  },
  {
   "cell_type": "code",
   "execution_count": 11,
   "metadata": {},
   "outputs": [],
   "source": [
    "model=tf.keras.models.Sequential([\n",
    "    tf.keras.layers.Dense(30,activation='relu',input_shape=(13,)),\n",
    "    tf.keras.layers.Dense(1)\n",
    "])"
   ]
  },
  {
   "cell_type": "code",
   "execution_count": 12,
   "metadata": {},
   "outputs": [],
   "source": [
    "model.compile(loss='mse',optimizer='sgd')"
   ]
  },
  {
   "cell_type": "code",
   "execution_count": 13,
   "metadata": {},
   "outputs": [],
   "source": [
    "callbacks=[\n",
    "    tf.keras.callbacks.EarlyStopping(patience=5,min_delta=1e-2)\n",
    "]"
   ]
  },
  {
   "cell_type": "code",
   "execution_count": 14,
   "metadata": {},
   "outputs": [
    {
     "name": "stdout",
     "output_type": "stream",
     "text": [
      "Train on 284 samples, validate on 95 samples\n",
      "Epoch 1/50\n",
      "284/284 [==============================] - 0s 1ms/sample - loss: 262.8761 - val_loss: 35.0611\n",
      "Epoch 2/50\n",
      "284/284 [==============================] - 0s 53us/sample - loss: 28.5773 - val_loss: 22.4146\n",
      "Epoch 3/50\n",
      "284/284 [==============================] - 0s 60us/sample - loss: 22.2079 - val_loss: 20.3765\n",
      "Epoch 4/50\n",
      "284/284 [==============================] - 0s 63us/sample - loss: 19.8350 - val_loss: 16.9020\n",
      "Epoch 5/50\n",
      "284/284 [==============================] - 0s 60us/sample - loss: 16.8496 - val_loss: 15.4545\n",
      "Epoch 6/50\n",
      "284/284 [==============================] - 0s 60us/sample - loss: 15.0092 - val_loss: 16.1605\n",
      "Epoch 7/50\n",
      "284/284 [==============================] - 0s 63us/sample - loss: 16.5001 - val_loss: 14.2164\n",
      "Epoch 8/50\n",
      "284/284 [==============================] - 0s 74us/sample - loss: 15.3181 - val_loss: 14.2810\n",
      "Epoch 9/50\n",
      "284/284 [==============================] - 0s 70us/sample - loss: 13.5393 - val_loss: 15.3636\n",
      "Epoch 10/50\n",
      "284/284 [==============================] - 0s 70us/sample - loss: 13.9306 - val_loss: 12.6956\n",
      "Epoch 11/50\n",
      "284/284 [==============================] - 0s 63us/sample - loss: 12.5458 - val_loss: 13.5275\n",
      "Epoch 12/50\n",
      "284/284 [==============================] - 0s 63us/sample - loss: 12.8877 - val_loss: 12.2469\n",
      "Epoch 13/50\n",
      "284/284 [==============================] - 0s 70us/sample - loss: 12.9309 - val_loss: 12.4656\n",
      "Epoch 14/50\n",
      "284/284 [==============================] - 0s 60us/sample - loss: 12.8070 - val_loss: 13.4444\n",
      "Epoch 15/50\n",
      "284/284 [==============================] - 0s 63us/sample - loss: 12.3893 - val_loss: 11.5866\n",
      "Epoch 16/50\n",
      "284/284 [==============================] - 0s 70us/sample - loss: 11.0288 - val_loss: 16.1318\n",
      "Epoch 17/50\n",
      "284/284 [==============================] - 0s 60us/sample - loss: 11.0756 - val_loss: 10.4908\n",
      "Epoch 18/50\n",
      "284/284 [==============================] - 0s 60us/sample - loss: 11.1244 - val_loss: 10.9275\n",
      "Epoch 19/50\n",
      "284/284 [==============================] - 0s 70us/sample - loss: 15.0084 - val_loss: 10.3843\n",
      "Epoch 20/50\n",
      "284/284 [==============================] - 0s 77us/sample - loss: 11.2942 - val_loss: 10.2497\n",
      "Epoch 21/50\n",
      "284/284 [==============================] - 0s 74us/sample - loss: 10.0170 - val_loss: 10.3446\n",
      "Epoch 22/50\n",
      "284/284 [==============================] - 0s 70us/sample - loss: 10.6256 - val_loss: 9.7959\n",
      "Epoch 23/50\n",
      "284/284 [==============================] - 0s 74us/sample - loss: 9.9850 - val_loss: 10.2968\n",
      "Epoch 24/50\n",
      "284/284 [==============================] - 0s 63us/sample - loss: 10.0434 - val_loss: 11.7824\n",
      "Epoch 25/50\n",
      "284/284 [==============================] - 0s 68us/sample - loss: 9.7221 - val_loss: 10.9708\n",
      "Epoch 26/50\n",
      "284/284 [==============================] - 0s 63us/sample - loss: 10.9224 - val_loss: 10.5014\n",
      "Epoch 27/50\n",
      "284/284 [==============================] - 0s 63us/sample - loss: 9.8962 - val_loss: 10.0935\n"
     ]
    }
   ],
   "source": [
    "history=model.fit(x_train,y_train,validation_data=[x_valid,y_valid],epochs=50,callbacks=callbacks)"
   ]
  },
  {
   "cell_type": "code",
   "execution_count": 15,
   "metadata": {},
   "outputs": [
    {
     "name": "stdout",
     "output_type": "stream",
     "text": [
      "Model: \"sequential\"\n",
      "_________________________________________________________________\n",
      "Layer (type)                 Output Shape              Param #   \n",
      "=================================================================\n",
      "dense (Dense)                (None, 30)                420       \n",
      "_________________________________________________________________\n",
      "dense_1 (Dense)              (None, 1)                 31        \n",
      "=================================================================\n",
      "Total params: 451\n",
      "Trainable params: 451\n",
      "Non-trainable params: 0\n",
      "_________________________________________________________________\n"
     ]
    }
   ],
   "source": [
    "model.summary()"
   ]
  },
  {
   "cell_type": "code",
   "execution_count": 16,
   "metadata": {},
   "outputs": [
    {
     "data": {
      "image/png": "[encoded data removed]",
      "text/plain": [
       "<Figure size 576x360 with 1 Axes>"
      ]
     },
     "metadata": {
      "needs_background": "light"
     },
     "output_type": "display_data"
    }
   ],
   "source": [
    "def plot_learning_curves(history):\n",
    "    pd.DataFrame(history.history).plot(figsize=(8,5))\n",
    "    plt.grid(True)\n",
    "    plt.gca().set_ylim(0,50)\n",
    "    plt.show()\n",
    "plot_learning_curves(history)"
   ]
  },
  {
   "cell_type": "code",
   "execution_count": 17,
   "metadata": {},
   "outputs": [
    {
     "name": "stdout",
     "output_type": "stream",
     "text": [
      "\r",
      "127/1 [==================================================================================================================================================================================================================================================================================================================================================================================================================================================================================================================================================================================================================================================================================================================================================================================================================================================================================================================================================================================================================================================================================================================================================================================================================================================================================================================================================================================================================================================================================================================================================================================================================================================================================================================================================================================================================================================================================================================================================================================================================================================================================================================================================================================================================================================================================================================================================================================================================================================================================================================================================================================================================================================================================================================================================================================================================================================================================================================================================================================================================================================================================================================================================================================================================================================================================================================================================================================================================================================================================================================================================================================================================================================================================================================================================================================================================================================================================================================================================================] - 0s 24us/sample - loss: 11.3590\n"
     ]
    },
    {
     "data": {
      "text/plain": [
       "13.98314246230238"
      ]
     },
     "execution_count": 17,
     "metadata": {},
     "output_type": "execute_result"
    }
   ],
   "source": [
    "model.evaluate(x_test,y_test)"
   ]
  },
  {
   "cell_type": "code",
   "execution_count": null,
   "metadata": {},
   "outputs": [],
   "source": []
  }
 ],
 "metadata": {
  "kernelspec": {
   "display_name": "Python 3",
   "language": "python",
   "name": "python3"
  },
  "language_info": {
   "codemirror_mode": {
    "name": "ipython",
    "version": 3
   },
   "file_extension": ".py",
   "mimetype": "text/x-python",
   "name": "python",
   "nbconvert_exporter": "python",
   "pygments_lexer": "ipython3",
   "version": "3.7.3"
  }
 },
 "nbformat": 4,
 "nbformat_minor": 2
}
