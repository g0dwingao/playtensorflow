{
 "cells": [
  {
   "cell_type": "code",
   "execution_count": 2,
   "metadata": {},
   "outputs": [],
   "source": [
    "import numpy as np\n",
    "import pandas as pd\n",
    "import matplotlib.pyplot as plt\n",
    "import tensorflow as tf\n",
    "from sklearn.preprocessing import StandardScaler\n",
    "from sklearn.datasets import load_boston"
   ]
  },
  {
   "cell_type": "code",
   "execution_count": 3,
   "metadata": {},
   "outputs": [],
   "source": [
    "boston=load_boston()"
   ]
  },
  {
   "cell_type": "code",
   "execution_count": 4,
   "metadata": {},
   "outputs": [],
   "source": [
    "# boston.target.shape"
   ]
  },
  {
   "cell_type": "code",
   "execution_count": 5,
   "metadata": {},
   "outputs": [],
   "source": [
    "# boston.data.shape"
   ]
  },
  {
   "cell_type": "code",
   "execution_count": 6,
   "metadata": {},
   "outputs": [],
   "source": [
    "from sklearn.model_selection import train_test_split"
   ]
  },
  {
   "cell_type": "code",
   "execution_count": 7,
   "metadata": {},
   "outputs": [],
   "source": [
    "x_train,x_test,y_train,y_test=train_test_split(boston.data,boston.target)"
   ]
  },
  {
   "cell_type": "code",
   "execution_count": 8,
   "metadata": {},
   "outputs": [],
   "source": [
    "x_train,x_valid,y_train,y_valid=train_test_split(x_train,y_train)"
   ]
  },
  {
   "cell_type": "code",
   "execution_count": 9,
   "metadata": {},
   "outputs": [],
   "source": [
    "scaler=StandardScaler()\n",
    "x_train=scaler.fit_transform(x_train)\n",
    "x_valid=scaler.transform(x_valid)\n",
    "x_test=scaler.transform(x_test)"
   ]
  },
  {
   "cell_type": "code",
   "execution_count": 18,
   "metadata": {},
   "outputs": [],
   "source": [
    "class MyRegressionModel(tf.keras.models.Model):\n",
    "    def __init__(self):\n",
    "        super(MyRegressionModel,self).__init__()\n",
    "        self.hidden1=tf.keras.layers.Dense(30,activation='relu')\n",
    "        self.hidden2=tf.keras.layers.Dense(10,activation='relu')\n",
    "        self.output_layer=tf.keras.layers.Dense(1)\n",
    "    def call(self,inputs):\n",
    "        x1=self.hidden1(inputs)\n",
    "        x2=self.hidden2(x1)\n",
    "        \n",
    "        return self.output_layer(x2)"
   ]
  },
  {
   "cell_type": "code",
   "execution_count": 25,
   "metadata": {},
   "outputs": [],
   "source": [
    "model=MyRegressionModel()\n",
    "model.build(input_shape=(None,13))"
   ]
  },
  {
   "cell_type": "code",
   "execution_count": 26,
   "metadata": {},
   "outputs": [
    {
     "name": "stdout",
     "output_type": "stream",
     "text": [
      "Model: \"my_regression_model_7\"\n",
      "_________________________________________________________________\n",
      "Layer (type)                 Output Shape              Param #   \n",
      "=================================================================\n",
      "dense_21 (Dense)             multiple                  420       \n",
      "_________________________________________________________________\n",
      "dense_22 (Dense)             multiple                  310       \n",
      "_________________________________________________________________\n",
      "dense_23 (Dense)             multiple                  11        \n",
      "=================================================================\n",
      "Total params: 741\n",
      "Trainable params: 741\n",
      "Non-trainable params: 0\n",
      "_________________________________________________________________\n"
     ]
    }
   ],
   "source": [
    "model.summary()"
   ]
  },
  {
   "cell_type": "code",
   "execution_count": 27,
   "metadata": {},
   "outputs": [],
   "source": [
    "model.compile(loss='mse',optimizer='sgd')"
   ]
  },
  {
   "cell_type": "code",
   "execution_count": 29,
   "metadata": {},
   "outputs": [
    {
     "name": "stdout",
     "output_type": "stream",
     "text": [
      "Train on 284 samples, validate on 95 samples\n",
      "Epoch 1/100\n",
      "284/284 [==============================] - 0s 1ms/sample - loss: 422.5996 - val_loss: 81.0259\n",
      "Epoch 2/100\n",
      "284/284 [==============================] - 0s 63us/sample - loss: 311.2588 - val_loss: 270.7527\n",
      "Epoch 3/100\n",
      "284/284 [==============================] - 0s 60us/sample - loss: 84.7911 - val_loss: 33.7717\n",
      "Epoch 4/100\n",
      "284/284 [==============================] - 0s 70us/sample - loss: 37.4834 - val_loss: 47.9269\n",
      "Epoch 5/100\n",
      "284/284 [==============================] - 0s 70us/sample - loss: 30.7650 - val_loss: 23.2018\n",
      "Epoch 6/100\n",
      "284/284 [==============================] - 0s 74us/sample - loss: 19.5296 - val_loss: 22.6797\n",
      "Epoch 7/100\n",
      "284/284 [==============================] - 0s 74us/sample - loss: 18.1853 - val_loss: 140.8283\n",
      "Epoch 8/100\n",
      "284/284 [==============================] - 0s 74us/sample - loss: 60.0487 - val_loss: 31.4134\n",
      "Epoch 9/100\n",
      "284/284 [==============================] - 0s 77us/sample - loss: 14.7046 - val_loss: 19.8595\n",
      "Epoch 10/100\n",
      "284/284 [==============================] - 0s 74us/sample - loss: 11.5087 - val_loss: 18.6116\n",
      "Epoch 11/100\n",
      "284/284 [==============================] - 0s 70us/sample - loss: 15.2860 - val_loss: 66.7274\n",
      "Epoch 12/100\n",
      "284/284 [==============================] - 0s 67us/sample - loss: 14.2648 - val_loss: 15.4439\n",
      "Epoch 13/100\n",
      "284/284 [==============================] - 0s 74us/sample - loss: 14.6979 - val_loss: 14.9940\n",
      "Epoch 14/100\n",
      "284/284 [==============================] - 0s 77us/sample - loss: 18.2770 - val_loss: 19.9212\n",
      "Epoch 15/100\n",
      "284/284 [==============================] - 0s 84us/sample - loss: 16.9190 - val_loss: 53.5969\n",
      "Epoch 16/100\n",
      "284/284 [==============================] - 0s 77us/sample - loss: 20.0075 - val_loss: 13.2806\n",
      "Epoch 17/100\n",
      "284/284 [==============================] - 0s 81us/sample - loss: 10.2964 - val_loss: 12.6802\n",
      "Epoch 18/100\n",
      "284/284 [==============================] - 0s 81us/sample - loss: 10.1143 - val_loss: 24.7644\n",
      "Epoch 19/100\n",
      "284/284 [==============================] - 0s 74us/sample - loss: 9.7181 - val_loss: 16.1339\n",
      "Epoch 20/100\n",
      "284/284 [==============================] - 0s 77us/sample - loss: 10.2966 - val_loss: 13.5171\n",
      "Epoch 21/100\n",
      "284/284 [==============================] - 0s 70us/sample - loss: 10.0059 - val_loss: 13.2259\n",
      "Epoch 22/100\n",
      "284/284 [==============================] - 0s 63us/sample - loss: 8.1298 - val_loss: 27.7420\n",
      "Epoch 23/100\n",
      "284/284 [==============================] - 0s 74us/sample - loss: 11.0000 - val_loss: 11.5108\n",
      "Epoch 24/100\n",
      "284/284 [==============================] - 0s 74us/sample - loss: 9.3480 - val_loss: 14.4111\n",
      "Epoch 25/100\n",
      "284/284 [==============================] - 0s 60us/sample - loss: 12.3740 - val_loss: 14.7216\n",
      "Epoch 26/100\n",
      "284/284 [==============================] - 0s 74us/sample - loss: 13.0663 - val_loss: 14.4284\n",
      "Epoch 27/100\n",
      "284/284 [==============================] - 0s 60us/sample - loss: 14.2747 - val_loss: 11.9283\n",
      "Epoch 28/100\n",
      "284/284 [==============================] - 0s 70us/sample - loss: 9.3975 - val_loss: 31.5265\n",
      "Epoch 29/100\n",
      "284/284 [==============================] - 0s 70us/sample - loss: 9.8689 - val_loss: 15.3899\n",
      "Epoch 30/100\n",
      "284/284 [==============================] - 0s 70us/sample - loss: 10.9861 - val_loss: 11.5474\n",
      "Epoch 31/100\n",
      "284/284 [==============================] - 0s 67us/sample - loss: 6.4367 - val_loss: 10.6182\n",
      "Epoch 32/100\n",
      "284/284 [==============================] - 0s 63us/sample - loss: 8.0423 - val_loss: 15.2264\n",
      "Epoch 33/100\n",
      "284/284 [==============================] - 0s 70us/sample - loss: 8.7222 - val_loss: 14.6565\n",
      "Epoch 34/100\n",
      "284/284 [==============================] - 0s 74us/sample - loss: 7.2601 - val_loss: 10.2231\n",
      "Epoch 35/100\n",
      "284/284 [==============================] - 0s 74us/sample - loss: 7.6923 - val_loss: 21.1631\n",
      "Epoch 36/100\n",
      "284/284 [==============================] - 0s 74us/sample - loss: 14.2750 - val_loss: 13.2645\n",
      "Epoch 37/100\n",
      "284/284 [==============================] - 0s 67us/sample - loss: 14.5053 - val_loss: 27.2344\n",
      "Epoch 38/100\n",
      "284/284 [==============================] - 0s 63us/sample - loss: 9.5395 - val_loss: 9.9703\n",
      "Epoch 39/100\n",
      "284/284 [==============================] - 0s 74us/sample - loss: 7.2851 - val_loss: 9.9705\n",
      "Epoch 40/100\n",
      "284/284 [==============================] - 0s 84us/sample - loss: 7.1330 - val_loss: 10.6701\n",
      "Epoch 41/100\n",
      "284/284 [==============================] - 0s 81us/sample - loss: 5.9734 - val_loss: 9.9428\n",
      "Epoch 42/100\n",
      "284/284 [==============================] - 0s 67us/sample - loss: 6.4601 - val_loss: 10.9559\n",
      "Epoch 43/100\n",
      "284/284 [==============================] - 0s 74us/sample - loss: 7.3671 - val_loss: 25.6454\n",
      "Epoch 44/100\n",
      "284/284 [==============================] - 0s 74us/sample - loss: 10.0946 - val_loss: 9.0954\n",
      "Epoch 45/100\n",
      "284/284 [==============================] - 0s 70us/sample - loss: 9.1634 - val_loss: 13.6515\n",
      "Epoch 46/100\n",
      "284/284 [==============================] - 0s 70us/sample - loss: 7.8744 - val_loss: 9.1837\n",
      "Epoch 47/100\n",
      "284/284 [==============================] - 0s 63us/sample - loss: 5.5760 - val_loss: 9.5983\n",
      "Epoch 48/100\n",
      "284/284 [==============================] - 0s 74us/sample - loss: 6.1941 - val_loss: 12.6061\n",
      "Epoch 49/100\n",
      "284/284 [==============================] - 0s 74us/sample - loss: 8.1404 - val_loss: 10.0183\n",
      "Epoch 50/100\n",
      "284/284 [==============================] - 0s 63us/sample - loss: 6.4181 - val_loss: 9.5405\n",
      "Epoch 51/100\n",
      "284/284 [==============================] - 0s 67us/sample - loss: 6.0875 - val_loss: 9.0208\n",
      "Epoch 52/100\n",
      "284/284 [==============================] - 0s 60us/sample - loss: 6.0381 - val_loss: 20.3777\n",
      "Epoch 53/100\n",
      "284/284 [==============================] - 0s 72us/sample - loss: 8.1121 - val_loss: 11.5014\n",
      "Epoch 54/100\n",
      "284/284 [==============================] - 0s 70us/sample - loss: 6.5792 - val_loss: 11.9253\n",
      "Epoch 55/100\n",
      "284/284 [==============================] - 0s 77us/sample - loss: 6.5926 - val_loss: 8.6674\n",
      "Epoch 56/100\n",
      "284/284 [==============================] - 0s 74us/sample - loss: 4.6084 - val_loss: 10.5357\n",
      "Epoch 57/100\n",
      "284/284 [==============================] - 0s 67us/sample - loss: 7.7436 - val_loss: 9.3124\n",
      "Epoch 58/100\n",
      "284/284 [==============================] - 0s 70us/sample - loss: 5.1704 - val_loss: 9.8223\n",
      "Epoch 59/100\n",
      "284/284 [==============================] - 0s 63us/sample - loss: 5.5984 - val_loss: 14.2885\n",
      "Epoch 60/100\n",
      "284/284 [==============================] - 0s 67us/sample - loss: 5.2734 - val_loss: 8.0940\n",
      "Epoch 61/100\n",
      "284/284 [==============================] - 0s 67us/sample - loss: 4.2429 - val_loss: 8.8162\n",
      "Epoch 62/100\n",
      "284/284 [==============================] - 0s 63us/sample - loss: 4.7376 - val_loss: 9.2445\n",
      "Epoch 63/100\n",
      "284/284 [==============================] - 0s 67us/sample - loss: 5.4787 - val_loss: 9.7099\n",
      "Epoch 64/100\n",
      "284/284 [==============================] - 0s 56us/sample - loss: 5.8021 - val_loss: 11.2045\n",
      "Epoch 65/100\n",
      "284/284 [==============================] - 0s 63us/sample - loss: 4.7380 - val_loss: 9.7290\n",
      "Epoch 66/100\n",
      "284/284 [==============================] - 0s 60us/sample - loss: 4.4027 - val_loss: 8.2197\n",
      "Epoch 67/100\n",
      "284/284 [==============================] - 0s 60us/sample - loss: 4.1309 - val_loss: 11.5323\n",
      "Epoch 68/100\n",
      "284/284 [==============================] - 0s 67us/sample - loss: 6.0700 - val_loss: 8.8474\n",
      "Epoch 69/100\n",
      "284/284 [==============================] - 0s 63us/sample - loss: 4.1140 - val_loss: 10.0819\n",
      "Epoch 70/100\n",
      "284/284 [==============================] - 0s 67us/sample - loss: 3.8870 - val_loss: 8.8888\n",
      "Epoch 71/100\n",
      "284/284 [==============================] - 0s 63us/sample - loss: 8.7684 - val_loss: 8.2561\n",
      "Epoch 72/100\n",
      "284/284 [==============================] - 0s 63us/sample - loss: 5.9621 - val_loss: 25.7114\n",
      "Epoch 73/100\n",
      "284/284 [==============================] - 0s 60us/sample - loss: 5.1581 - val_loss: 8.5832\n",
      "Epoch 74/100\n",
      "284/284 [==============================] - 0s 60us/sample - loss: 4.2972 - val_loss: 9.4449\n",
      "Epoch 75/100\n",
      "284/284 [==============================] - 0s 60us/sample - loss: 4.3022 - val_loss: 10.7398\n",
      "Epoch 76/100\n",
      "284/284 [==============================] - 0s 67us/sample - loss: 5.1446 - val_loss: 38.0742\n",
      "Epoch 77/100\n",
      "284/284 [==============================] - 0s 63us/sample - loss: 6.5853 - val_loss: 8.4532\n"
     ]
    },
    {
     "name": "stdout",
     "output_type": "stream",
     "text": [
      "Epoch 78/100\n",
      "284/284 [==============================] - 0s 60us/sample - loss: 5.0948 - val_loss: 22.5281\n",
      "Epoch 79/100\n",
      "284/284 [==============================] - 0s 81us/sample - loss: 7.9365 - val_loss: 15.8738\n",
      "Epoch 80/100\n",
      "284/284 [==============================] - 0s 63us/sample - loss: 8.5854 - val_loss: 8.2421\n",
      "Epoch 81/100\n",
      "284/284 [==============================] - 0s 70us/sample - loss: 3.7583 - val_loss: 8.1727\n",
      "Epoch 82/100\n",
      "284/284 [==============================] - 0s 53us/sample - loss: 3.6477 - val_loss: 7.7476\n",
      "Epoch 83/100\n",
      "284/284 [==============================] - 0s 70us/sample - loss: 4.1443 - val_loss: 8.6598\n",
      "Epoch 84/100\n",
      "284/284 [==============================] - 0s 53us/sample - loss: 5.8144 - val_loss: 8.9981\n",
      "Epoch 85/100\n",
      "284/284 [==============================] - 0s 60us/sample - loss: 4.1653 - val_loss: 11.1706\n",
      "Epoch 86/100\n",
      "284/284 [==============================] - 0s 63us/sample - loss: 4.3561 - val_loss: 9.7726\n",
      "Epoch 87/100\n",
      "284/284 [==============================] - 0s 67us/sample - loss: 4.5901 - val_loss: 8.1395\n",
      "Epoch 88/100\n",
      "284/284 [==============================] - 0s 56us/sample - loss: 4.7309 - val_loss: 15.8541\n",
      "Epoch 89/100\n",
      "284/284 [==============================] - 0s 63us/sample - loss: 4.1022 - val_loss: 10.0774\n",
      "Epoch 90/100\n",
      "284/284 [==============================] - 0s 60us/sample - loss: 5.9279 - val_loss: 9.6468\n",
      "Epoch 91/100\n",
      "284/284 [==============================] - 0s 63us/sample - loss: 3.0282 - val_loss: 12.8520\n",
      "Epoch 92/100\n",
      "284/284 [==============================] - 0s 60us/sample - loss: 6.3945 - val_loss: 8.4219\n",
      "Epoch 93/100\n",
      "284/284 [==============================] - 0s 60us/sample - loss: 4.5550 - val_loss: 8.8510\n",
      "Epoch 94/100\n",
      "284/284 [==============================] - 0s 56us/sample - loss: 3.3182 - val_loss: 7.9646\n",
      "Epoch 95/100\n",
      "284/284 [==============================] - 0s 65us/sample - loss: 2.9707 - val_loss: 12.3144\n",
      "Epoch 96/100\n",
      "284/284 [==============================] - 0s 67us/sample - loss: 4.0207 - val_loss: 9.1091\n",
      "Epoch 97/100\n",
      "284/284 [==============================] - 0s 56us/sample - loss: 3.6751 - val_loss: 10.5183\n",
      "Epoch 98/100\n",
      "284/284 [==============================] - 0s 60us/sample - loss: 3.7764 - val_loss: 8.5593\n",
      "Epoch 99/100\n",
      "284/284 [==============================] - 0s 56us/sample - loss: 3.9803 - val_loss: 9.7639\n",
      "Epoch 100/100\n",
      "284/284 [==============================] - 0s 63us/sample - loss: 3.0595 - val_loss: 10.9117\n"
     ]
    }
   ],
   "source": [
    "history=model.fit(x_train,y_train,validation_data=[x_valid,y_valid],epochs=100)"
   ]
  },
  {
   "cell_type": "code",
   "execution_count": 30,
   "metadata": {},
   "outputs": [],
   "source": [
    "y_predict=model.predict(x_test)"
   ]
  },
  {
   "cell_type": "code",
   "execution_count": 31,
   "metadata": {},
   "outputs": [],
   "source": [
    "from sklearn.metrics import r2_score"
   ]
  },
  {
   "cell_type": "code",
   "execution_count": 32,
   "metadata": {},
   "outputs": [
    {
     "data": {
      "text/plain": [
       "0.7681564054068294"
      ]
     },
     "execution_count": 32,
     "metadata": {},
     "output_type": "execute_result"
    }
   ],
   "source": [
    "r2_score(y_test,y_predict)"
   ]
  },
  {
   "cell_type": "code",
   "execution_count": null,
   "metadata": {},
   "outputs": [],
   "source": []
  }
 ],
 "metadata": {
  "kernelspec": {
   "display_name": "Python 3",
   "language": "python",
   "name": "python3"
  },
  "language_info": {
   "codemirror_mode": {
    "name": "ipython",
    "version": 3
   },
   "file_extension": ".py",
   "mimetype": "text/x-python",
   "name": "python",
   "nbconvert_exporter": "python",
   "pygments_lexer": "ipython3",
   "version": "3.7.3"
  }
 },
 "nbformat": 4,
 "nbformat_minor": 2
}
